{
 "cells": [
  {
   "cell_type": "code",
   "execution_count": null,
   "id": "b74256aa",
   "metadata": {},
   "outputs": [],
   "source": [
    "import pandas as pd\n",
    "import matplotlib.pyplot as plt\n",
    "import seaborn as sns\n",
    "import json\n",
    "import numpy as np\n",
    "import os\n",
    "from configs.config_spottune import CFG\n",
    "from spottunet.split import one2one\n",
    "from pathlib import Path\n",
    "from collections import defaultdict\n",
    "import torch"
   ]
  },
  {
   "cell_type": "markdown",
   "id": "4cf674a5",
   "metadata": {
    "tags": []
   },
   "source": [
    "### Policy Visualization"
   ]
  },
  {
   "cell_type": "code",
   "execution_count": null,
   "id": "8ca6a014",
   "metadata": {},
   "outputs": [],
   "source": [
    "def floats2colors(floats, bins=256):\n",
    "    palette = sns.color_palette(palette='magma', n_colors=bins).as_hex()\n",
    "    ints = np.int64(floats * (bins - 1))\n",
    "    colors = [palette[i] for i in ints]\n",
    "    return colors\n",
    "\n",
    "def get_stats_spottune(exp_path, fold='inference'):\n",
    "    p = torch.load(Path(exp_path) / f'policy_{fold}_record/policy_record')\n",
    "    f = open(Path(exp_path) / f'policy_{fold}_record/iter_record', 'r')\n",
    "    n_iter = f.read()\n",
    "    f.close()\n",
    "    record = (p / int(n_iter)).detach().numpy()\n",
    "    return record\n",
    "\n",
    "\n",
    "ns = np.arange(15,20)\n",
    "path_template = 'spottune_results/baseline_results/{}/'\n",
    "paths = [#\"baseline_focal_lovasz_adam_default_Posterize_exp_ssi_1_nid_3_default\",\n",
    "         #\"baseline_focal_lovasz_adam_default_Posterize_exp_ssi_12_nid_2_default\",\n",
    "         \"baseline_focal_lovasz_adam_default_exp_ssi_48_nid_1_default\",\n",
    "         \"baseline_focal_lovasz_adam_default_exp_ssi_12_nid_2_default\",\n",
    "         \"baseline_focal_lovasz_adam_default_exp_ssi_1_nid_3_default\",\n",
    "        \"baseline_focal_lovasz_adam_rand_aug_default_v1_exp_ssi_48_nid_1_default\",\n",
    "         \"baseline_focal_lovasz_adam_rand_aug_default_v1_exp_ssi_12_nid_2_default\",\n",
    "        \"baseline_focal_lovasz_adam_rand_aug_default_v1_exp_ssi_1_nid_3_default\"\n",
    "        ]\n",
    "\n",
    "records = defaultdict(list)\n",
    "for k,v in enumerate(paths):\n",
    "    for n in ns:\n",
    "        try:\n",
    "            records[v].append(get_stats_spottune(Path(path_template.format(v)) / f'mode_{n}'))\n",
    "        except:\n",
    "            None\n",
    "        \n",
    "records_mean = {k: 1 - np.mean(v, axis=0) for k, v in records.items()}"
   ]
  },
  {
   "cell_type": "code",
   "execution_count": null,
   "id": "7ecff1c9",
   "metadata": {},
   "outputs": [],
   "source": [
    "records_mean"
   ]
  },
  {
   "cell_type": "code",
   "execution_count": null,
   "id": "b86bede0",
   "metadata": {},
   "outputs": [],
   "source": [
    "plt.figure(figsize=(20,10))\n",
    "sns.barplot(data=np.array([np.array(records[\"exp_ssi_48_nid_1_gamma\"])[0],np.array(records[\"exp_ssi_48_nid_1_gamma\"])[0]]) )"
   ]
  },
  {
   "cell_type": "code",
   "execution_count": null,
   "id": "fcd6e886",
   "metadata": {},
   "outputs": [],
   "source": [
    "colors = {k: floats2colors(v) for k, v in records_mean.items()}\n",
    "print(-1, *[f'{k:10s}' for k in colors.keys()])\n",
    "for i in range(1, len(colors[paths[0]]) + 1):\n",
    "    print(f'{i:2d}', *[f'{v[i - 1]:10s}' for _, v in colors.items()])"
   ]
  },
  {
   "cell_type": "code",
   "execution_count": null,
   "id": "2091daaa-6cac-4d0d-b421-7704d57d0d3f",
   "metadata": {},
   "outputs": [],
   "source": [
    "sns.palplot(colors['baseline_focal_lovasz_adam_default_exp_ssi_48_nid_1_default'])\n",
    "sns.palplot(colors['baseline_focal_lovasz_adam_default_exp_ssi_12_nid_2_default'])\n",
    "sns.palplot(colors['baseline_focal_lovasz_adam_default_exp_ssi_1_nid_3_default'])\n",
    "\n",
    "sns.palplot(colors['baseline_focal_lovasz_adam_rand_aug_default_v1_exp_ssi_48_nid_1_default'])\n",
    "sns.palplot(colors['baseline_focal_lovasz_adam_rand_aug_default_v1_exp_ssi_12_nid_2_default'])\n",
    "sns.palplot(colors['baseline_focal_lovasz_adam_rand_aug_default_v1_exp_ssi_1_nid_3_default'])\n"
   ]
  },
  {
   "cell_type": "code",
   "execution_count": null,
   "id": "ef1ecff2-d8c6-4c19-93d2-8fd9087baec2",
   "metadata": {},
   "outputs": [],
   "source": [
    "sns.palplot(colors['baseline_focal_lovasz_SGD_default_None_exp_ssi_1_nid_3_default'])"
   ]
  },
  {
   "cell_type": "code",
   "execution_count": null,
   "id": "af91edd5",
   "metadata": {},
   "outputs": [],
   "source": [
    "colors = {k: floats2colors(v) for k, v in records_mean.items()}\n",
    "print(-1, *[f'{k:10s}' for k in colors.keys()])\n",
    "for i in range(1, len(colors[paths[0]]) + 1):\n",
    "    print(*[f'{v[i - 1]:10s}' for _, v in colors.items()])"
   ]
  },
  {
   "cell_type": "code",
   "execution_count": null,
   "id": "d67faac6",
   "metadata": {},
   "outputs": [],
   "source": [
    "2*256//12"
   ]
  },
  {
   "cell_type": "markdown",
   "id": "3302dcd0",
   "metadata": {
    "tags": []
   },
   "source": [
    "### Dice Predictions"
   ]
  },
  {
   "cell_type": "code",
   "execution_count": null,
   "id": "40544a7e",
   "metadata": {},
   "outputs": [],
   "source": [
    "\n",
    "with open(\"spottune_results/exp_ssi_48_nid_1_norm/mode_3/sdice_score.json\",\"r\") as f:\n",
    "    data = json.load(f)\n",
    "list(data.values())"
   ]
  },
  {
   "cell_type": "markdown",
   "id": "ae7f56b8",
   "metadata": {
    "tags": []
   },
   "source": [
    "### Spottune Performance "
   ]
  },
  {
   "cell_type": "code",
   "execution_count": null,
   "id": "6db040e8",
   "metadata": {},
   "outputs": [],
   "source": [
    "meta = pd.read_csv('meta.csv', index_col='id')\n",
    "df_id = pd.read_csv('meta.csv')\n",
    "seed = 0xBadCafe\n",
    "pretrained = True\n",
    "n_first_exclude = 5\n",
    "n_exps = 30\n",
    "split = one2one(df_id, val_size=CFG.val_size, n_add_ids=CFG.n_add_ids,\n",
    "            train_on_add_only=pretrained, seed=seed)[n_first_exclude:n_exps]"
   ]
  },
  {
   "cell_type": "code",
   "execution_count": null,
   "id": "d5fd72ae",
   "metadata": {},
   "outputs": [],
   "source": [
    "### Siemens3\n",
    "mode_domain = [\"Siemens15\", \"Ge15\", \"Ge3\", \"philips15\", \"philips3\"]\n",
    "paths = [\"exp_03_no_aug\", \"exp_03_rrc\", \"exp_03_gaussianblur\", \"exp_03_ssi_48_nid_1_gamma\"]\n",
    "\n",
    "results = []\n",
    "for path in paths:\n",
    "    mode_dict = {}\n",
    "    modes = [0,1,2,3,4]\n",
    "    for mode in modes:\n",
    "        \n",
    "        with open(f\"spottune_results/{path}/mode_{str(mode)}/sdice_score.json\",\"r\") as f:\n",
    "            data = json.load(f)\n",
    "            mode_dict[mode_domain[mode]] = np.mean(list(data.values()))\n",
    "    mode_dict[' '] = path\n",
    "    results.append(mode_dict)\n",
    "results.append({\"Siemens15\": 0.849, \"Ge15\": 0.937, \"Ge3\": 0.422, \"philips15\": 0.743, \"philips3\": 0.644, \" \": \"baseline\"})"
   ]
  },
  {
   "cell_type": "code",
   "execution_count": null,
   "id": "57f15e2e",
   "metadata": {},
   "outputs": [],
   "source": [
    "### Ge3\n",
    "\n",
    "def get_baseline_target_domains(name, path, fold, meta):\n",
    "    with open(f\"baseline_results/{path}/mode_{str(fold)}/sdice_score.json\",\"r\") as f:\n",
    "        sdices = json.load(f)\n",
    "    mode_dict = {}\n",
    "    for t in sorted(set(meta['fold'].unique()) - {fold}):\n",
    "        df_row = meta[meta['fold'] == t].iloc[0]\n",
    "        target_name = df_row['tomograph_model'] + str(df_row['tesla_value'])\n",
    "        ids_t = meta[meta['fold'] == t].index\n",
    "        mode_dict[target_name] = np.round(np.mean([sdsc for _id, sdsc in sdices.items() if _id in ids_t]),3)\n",
    "    mode_dict[' '] = name\n",
    "    return mode_dict\n",
    "\n",
    "def get_target_domains(name, path, folds, meta, n_first_exclude=5, n_folds=6):\n",
    "    mode_dict = {}\n",
    "    for fold in sorted(folds):\n",
    "        subset_df = df_id.iloc[split[fold][2]]\n",
    "        target_name = str(subset_df['tomograph_model'].unique()[0]) + str(subset_df['tesla_value'].unique()[0])\n",
    "        ids_t = subset_df['id'].unique()\n",
    "        try:\n",
    "            with open(f\"{path}/mode_{str(fold)}/sdice_score.json\",\"r\") as f:\n",
    "                sdices = json.load(f)\n",
    "            mode_dict[target_name] = np.round(np.mean([sdsc for _id, sdsc in sdices.items() if _id in ids_t]),3)\n",
    "        except:\n",
    "            mode_dict[target_name] = np.nan\n",
    "    mode_dict[' '] = name\n",
    "    return mode_dict"
   ]
  },
  {
   "cell_type": "markdown",
   "id": "bf898987-edbb-441a-ad7b-1f091abe8407",
   "metadata": {
    "tags": []
   },
   "source": [
    "### Old experiments"
   ]
  },
  {
   "cell_type": "code",
   "execution_count": null,
   "id": "5db0c076-e396-4055-8870-47805f80f540",
   "metadata": {},
   "outputs": [],
   "source": [
    "baselines = [\"baseline23_exp4_default\", \"baseline23_exp4_rrc\", \"baseline23_exp4_weak_rrc\",\n",
    "             \"baseline23_jacard_default\", \"baseline_lovasz_default\",\n",
    "             \"baseline23_exp3_gamma\", \"baseline23_exp3_gaus\", \n",
    "             \"baseline_gamma\", \"baseline_gaus\", \n",
    "             \"baseline_rotation\", \n",
    "             \"baseline_translation\",\n",
    "             \"baseline_cutout\", \"baseline_brightness_contrast\",\n",
    "             \"baseline23_exp3_noSmoothing_mixup\"]\n",
    "mode_domain = [\"Siemens15\", \"Ge15\", \"Ge3\", \"philips15\", \"philips3\"]\n",
    "paths = [\n",
    "          \"exp_ssi_48_nid_1_default\",\"exp_ssi_12_nid_2_default\",\"exp_ssi_1_nid_3_default\",\n",
    "          \"exp_ssi_48_nid_1_gamma\", \"exp_ssi_12_nid_2_gamma\",\"exp_ssi_1_nid_3_gamma\",\n",
    "         \"exp_ssi_48_nid_1_gaus\",  \"exp_ssi_12_nid_2_gaus\", \"exp_ssi_1_nid_3_gaus\",\n",
    "         \"exp_ssi_48_nid_1_brightness_contrast\", \"exp_ssi_12_nid_2_brightness_contrast\",\"exp_ssi_1_nid_3_brightness_contrast\",\n",
    "          \"exp_ssi_48_nid_1_translate\", \"exp_ssi_12_nid_2_translate\", \"exp_ssi_1_nid_3_translate\",\n",
    "          \"exp_ssi_48_nid_1_rotation\", \"exp_ssi_12_nid_2_rotation\", \"exp_ssi_1_nid_3_rotation\",\n",
    "         \"exp_ssi_48_nid_1_cutout\", \"exp_ssi_12_nid_2_cutout\", \"exp_ssi_1_nid_3_cutout\",\n",
    "        ]\n",
    "results = []\n",
    "s = 3\n",
    "for baseline_path in baselines:\n",
    "    baseline_scores = get_baseline_target_domains(baseline_path,baseline_path,s,meta)\n",
    "    results.append(baseline_scores)\n",
    "for p in paths:\n",
    "    modes = [10,11,12,13,14]\n",
    "\n",
    "    path = os.path.join(\"spottune_results\",p)\n",
    "    spottune_scores = get_target_domains(p,path,modes,meta)\n",
    "    \n",
    "    results.append(spottune_scores)\n",
    "    \n",
    "df = pd.DataFrame.from_records(results, index=' ')\n",
    "df['Average'] = np.mean(df, axis=1)\n",
    "df['avg. gain'] = np.mean(df.iloc[1:] - df.iloc[0], axis=1)\n",
    "df"
   ]
  },
  {
   "cell_type": "markdown",
   "id": "838e93bf-cf45-4012-aedb-75066e2b6c08",
   "metadata": {
    "tags": []
   },
   "source": [
    "### new experiemnts spottune"
   ]
  },
  {
   "cell_type": "code",
   "execution_count": null,
   "id": "6b26ef66-7c6e-4d9c-a762-f1a24f9dffa3",
   "metadata": {},
   "outputs": [],
   "source": [
    "mode_domain = [\"Siemens15\", \"Ge15\", \"Ge3\", \"philips15\", \"philips3\"]\n",
    "baselines = [\"baseline_focal_lovasz_adam_default\"]\n",
    "paths = [\"baseline_focal_lovasz_adam_default_exp_ssi_48_nid_1_default\",\n",
    "         \"baseline_focal_lovasz_adam_default_exp_ssi_12_nid_2_default\",\n",
    "         \"baseline_focal_lovasz_adam_default_exp_ssi_1_nid_3_default\",\n",
    "        ]\n",
    "results = []\n",
    "s = 4\n",
    "for baseline_path in baselines:\n",
    "    baseline_scores = get_baseline_target_domains(baseline_path,baseline_path,s,meta)\n",
    "    results.append(baseline_scores)\n",
    "for p in paths:\n",
    "    modes = [15,16,17,18,19]\n",
    "\n",
    "    path = os.path.join(\"spottune_results/baseline_results/\",p)\n",
    "    spottune_scores = get_target_domains(p,path,modes,meta)\n",
    "    \n",
    "    results.append(spottune_scores)\n",
    "    \n",
    "df = pd.DataFrame.from_records(results, index=' ')\n",
    "df['Average'] = np.mean(df, axis=1)\n",
    "df['avg. gain'] = np.mean(df.iloc[1:] - df.iloc[0], axis=1)\n",
    "df"
   ]
  },
  {
   "cell_type": "code",
   "execution_count": null,
   "id": "1b888919-47d9-4036-ba2f-afda6340da7b",
   "metadata": {},
   "outputs": [],
   "source": [
    "mode_domain = [\"Siemens15\", \"Ge15\", \"Ge3\", \"philips15\", \"philips3\"]\n",
    "baselines = [\"baseline_focal_lovasz_adam_rand_aug_default_v1\"]\n",
    "paths = [\"baseline_focal_lovasz_adam_rand_aug_default_v1_exp_ssi_48_nid_1_default\",\n",
    "         \"baseline_focal_lovasz_adam_rand_aug_default_v1_exp_ssi_12_nid_2_default\",\n",
    "         \"baseline_focal_lovasz_adam_rand_aug_default_v1_exp_ssi_1_nid_3_default\",\n",
    "        ]\n",
    "results = []\n",
    "s = 4\n",
    "for baseline_path in baselines:\n",
    "    baseline_scores = get_baseline_target_domains(baseline_path,baseline_path,s,meta)\n",
    "    results.append(baseline_scores)\n",
    "for p in paths:\n",
    "    modes = [15,16,17,18,19]\n",
    "\n",
    "    path = os.path.join(\"spottune_results/baseline_results/\",p)\n",
    "    spottune_scores = get_target_domains(p,path,modes,meta)\n",
    "    \n",
    "    results.append(spottune_scores)\n",
    "    \n",
    "df = pd.DataFrame.from_records(results, index=' ')\n",
    "df['Average'] = np.mean(df, axis=1)\n",
    "df['avg. gain'] = np.mean(df.iloc[1:] - df.iloc[0], axis=1)\n",
    "df"
   ]
  },
  {
   "cell_type": "code",
   "execution_count": null,
   "id": "1bb68df0",
   "metadata": {},
   "outputs": [],
   "source": [
    "baselines = [\"baseline_lovasz_nostopping_default\",\n",
    "             \"baseline_focal_lovasz_nofp_default\", \"baseline_focal_lovasz_adam_default\"]\n",
    "mode_domain = [\"Siemens15\", \"Ge15\", \"Ge3\", \"philips15\", \"philips3\"]\n",
    "results = []\n",
    "s = 3\n",
    "for baseline_path in baselines:\n",
    "    baseline_scores = get_baseline_target_domains(baseline_path,baseline_path,s,meta)\n",
    "    results.append(baseline_scores)\n",
    "df = pd.DataFrame.from_records(results, index=' ')\n",
    "df['Average'] = np.mean(df, axis=1)\n",
    "df['avg. gain'] = np.mean(df.iloc[1:] - df.iloc[0], axis=1)\n",
    "df['avg_std'] = np.std(df.iloc[1:] - df.iloc[0], axis=1)\n",
    "df"
   ]
  },
  {
   "cell_type": "code",
   "execution_count": null,
   "id": "495770da",
   "metadata": {},
   "outputs": [],
   "source": [
    "baselines = [\"baseline_focal_lovasz_adam_default\",\n",
    "             \"baseline_focal_lovasz_adam_rand_aug_default_v1\",\n",
    "             \"baseline_focal_lovasz_Adam_rand_aug_default\",\n",
    "             \"baseline_focal_lovasz_adam_rand_aug_combo1\",\n",
    "             \"baseline_focal_lovasz_adam_default_Brightness\",\n",
    "             \"baseline_focal_lovasz_adam_default_Contrast\",\n",
    "             \"baseline_focal_lovasz_adam_default_SolarizeSolarizeAdd\",\n",
    "            \"baseline_focal_lovasz_adam_default_Posterize\",\n",
    "            \"baseline_focal_lovasz_adam_default_Rotate\",\n",
    "            \"baseline_focal_lovasz_adam_default_TranslateXRelTranslateYRel\",\n",
    "            \"baseline_focal_lovasz_adam_default_ShearXShearY\",\n",
    "            \"baseline_focal_lovasz_adam_default_Sharpness\",\n",
    "            \"baseline_focal_lovasz_adam_totvar\",\n",
    "            \"baseline_focal_lovasz_adam_GridDistortion\",\n",
    "            \"baseline_focal_lovasz_adam_gamma\",\n",
    "            #\"baseline_focal_lovasz_Adam_gamma_fcm_all\",\n",
    "            #\"baseline_focal_lovasz_Adam_gamma_fcm_wm\",\n",
    "            #\"baseline_focal_lovasz_Adam_gamma_fcm_csf\",\n",
    "            #\"baseline_focal_lovasz_Adam_gamma_fcm_gm\",\n",
    "            \"baseline_focal_lovasz_adam_cutout\",\n",
    "            \"baseline_focal_lovasz_adam_default_mixup0.2\",\n",
    "            ]\n",
    "mode_domain = [\"Siemens15\", \"Ge15\", \"Ge3\", \"philips15\", \"philips3\"]\n",
    "results = []\n",
    "s = 4\n",
    "for baseline_path in baselines:\n",
    "    baseline_scores = get_baseline_target_domains(baseline_path,baseline_path,s,meta)\n",
    "    results.append(baseline_scores)\n",
    "df = pd.DataFrame.from_records(results, index=' ')\n",
    "df['Average'] = np.mean(df, axis=1)\n",
    "df['avg. gain'] = np.mean(df.iloc[1:] - df.iloc[0], axis=1)\n",
    "df['avg_std'] = np.std(df.iloc[1:] - df.iloc[0], axis=1)\n",
    "df"
   ]
  },
  {
   "cell_type": "code",
   "execution_count": null,
   "id": "ea153221",
   "metadata": {},
   "outputs": [],
   "source": [
    "df.loc[:,'avg. gain'].values[2:].sum()"
   ]
  },
  {
   "cell_type": "code",
   "execution_count": null,
   "id": "7aa2c602",
   "metadata": {},
   "outputs": [],
   "source": [
    "baselines = [\"baseline_focal_lovasz_adam_default\",\n",
    "             #\"baseline_focal_lovasz_SGD_default\",\n",
    "             \"baseline_focal_lovasz_adam_rand_aug_default_v1\",\n",
    "             \"baseline_focal_lovasz_adam_default_Brightness\",\n",
    "             \"baseline_focal_lovasz_adam_default_Contrast\",\n",
    "             \"baseline_focal_lovasz_adam_default_SolarizeSolarizeAdd\",\n",
    "            \"baseline_focal_lovasz_adam_default_Posterize\",\n",
    "            \"baseline_focal_lovasz_adam_default_Rotate\",\n",
    "            \"baseline_focal_lovasz_adam_default_TranslateXRelTranslateYRel\",\n",
    "            \"baseline_focal_lovasz_adam_default_ShearXShearY\",\n",
    "            \"baseline_focal_lovasz_adam_default_Sharpness\"]\n",
    "mode_domain = [\"Siemens15\", \"Ge15\", \"Ge3\", \"philips15\", \"philips3\"]\n",
    "results = []\n",
    "s = 4\n",
    "for baseline_path in baselines:\n",
    "    baseline_scores = get_baseline_target_domains(baseline_path,baseline_path,s,meta)\n",
    "    results.append(baseline_scores)\n",
    "df = pd.DataFrame.from_records(results, index=' ')\n",
    "df['Average'] = np.mean(df, axis=1)\n",
    "df['avg. gain'] = np.mean(df.iloc[1:] - df.iloc[0], axis=1)\n",
    "df['avg_std'] = np.std(df.iloc[1:] - df.iloc[0], axis=1)\n",
    "df['Source Domain'] = ['Philips1.5T']*len(df)\n",
    "df"
   ]
  },
  {
   "cell_type": "code",
   "execution_count": null,
   "id": "0baa8b36-7c48-4c7b-b6fe-aa718138b2b0",
   "metadata": {},
   "outputs": [],
   "source": [
    "results = []\n",
    "s = 0\n",
    "for baseline_path in baselines:\n",
    "    baseline_scores = get_baseline_target_domains(baseline_path,baseline_path,s,meta)\n",
    "    results.append(baseline_scores)\n",
    "df2 = pd.DataFrame.from_records(results, index=' ')\n",
    "df2['Average'] = np.mean(df2, axis=1)\n",
    "df2['avg. gain'] = np.mean(df2.iloc[1:] - df2.iloc[0], axis=1)\n",
    "df2['avg_std'] = np.std(df2.iloc[1:] - df2.iloc[0], axis=1)\n",
    "df2['Source Domain'] = ['Siemens1.5T']*len(df2)\n",
    "df2"
   ]
  },
  {
   "cell_type": "code",
   "execution_count": null,
   "id": "86aa2eaf-66b5-4c07-891d-02224567a59d",
   "metadata": {},
   "outputs": [],
   "source": [
    "both = pd.concat((df, df2))\n",
    "df_rand_aug = both.loc[\"baseline_focal_lovasz_adam_rand_aug_default_v1\"]\n",
    "df_rand_aug.reset_index(level=0, inplace=True)\n",
    "df_single_augs = both.drop(index=[\"baseline_focal_lovasz_adam_default\",\"baseline_focal_lovasz_adam_rand_aug_default_v1\"])\n",
    "df_single_augs.reset_index(level=0, inplace=True)\n",
    "df_single_augs"
   ]
  },
  {
   "cell_type": "code",
   "execution_count": null,
   "id": "b679a09c-d53c-43b6-9027-9ff3a9a64812",
   "metadata": {},
   "outputs": [],
   "source": [
    "sns.set_style(\"darkgrid\")\n",
    "\n",
    "fig, axes = plt.subplots(1,2,gridspec_kw={'width_ratios': [1, 3]})\n",
    "plt.tight_layout()\n",
    "sns.barplot(ax=axes[0],data=df_rand_aug,x=' ',y='avg. gain',hue='Source Domain')\n",
    "axes[0].set_xticklabels(['RandAug'], rotation=45,ha='right', rotation_mode='anchor')\n",
    "axes[0].set_yticks([0,0.025,0.05,0.075,0.10,0.125,0.15])\n",
    "axes[0].set_ylim(0,0.15)\n",
    "axes[0].get_legend().remove()\n",
    "axes[0].set_ylabel(\"Avg. increase (SDice)\")\n",
    "\n",
    "\n",
    "sns.barplot(ax=axes[1],data=df_single_augs,x=' ',y='avg. gain',hue='Source Domain')\n",
    "axes[1].set_xticklabels(['Brightness', 'Contrast', 'Solarize', 'Posterize','Rotate','Translate','Shear', 'Sharpness'], rotation=45,ha='right', rotation_mode='anchor')\n",
    "axes[1].set_yticks([0,0.025,0.05,0.075,0.10,0.125,0.15])\n",
    "axes[1].set_ylim(0,0.15)\n",
    "axes[1].set_ylabel(\"\")\n",
    "\n",
    "\n",
    "\n",
    "\n",
    "plt.savefig('filename.png', dpi=300, bbox_inches='tight')\n",
    "plt.show()"
   ]
  },
  {
   "cell_type": "code",
   "execution_count": null,
   "id": "6643827e-b244-4cab-bd61-3b133786d9fc",
   "metadata": {},
   "outputs": [],
   "source": [
    "df_rand_aug = both.loc[\"baseline_focal_lovasz_adam_rand_aug_default_v1\"]\n",
    "df_rand_aug.reset_index(level=0, inplace=True)\n",
    "df_single_augs = both.drop(index=[\"baseline_focal_lovasz_adam_default\",\"baseline_focal_lovasz_adam_rand_aug_default_v1\"])\n",
    "df_single_augs.reset_index(level=0, inplace=True)\n",
    "\n",
    "fig, axes = plt.subplots(1,2,gridspec_kw={'width_ratios': [3, 1]})\n",
    "fig.tight_layout()\n",
    "sns.boxplot(ax=axes[0],data=df_single_augs,x=' ',y='avg. gain',hue='fold',)\n",
    "axes[0].set_xticklabels(np.unique(df_single_augs[' ']), rotation=45,ha='right', rotation_mode='anchor')\n",
    "sns.boxplot(ax=axes[1],data=df_rand_aug,x=' ',y='avg. gain',hue='fold')\n",
    "axes[1].set_xticklabels(np.unique(df_rand_aug[' ']), rotation=45,ha='right', rotation_mode='anchor')\n",
    "plt.show()"
   ]
  },
  {
   "cell_type": "markdown",
   "id": "e208f6f3-5603-461f-9a67-48c380108f22",
   "metadata": {
    "jp-MarkdownHeadingCollapsed": true,
    "tags": []
   },
   "source": [
    "### Original SGD"
   ]
  },
  {
   "cell_type": "code",
   "execution_count": null,
   "id": "4d38d3da-1455-430c-bc4d-3ef466bb8337",
   "metadata": {},
   "outputs": [],
   "source": [
    "\n",
    "def get_SGD_baseline_target_domains(name, path, fold, meta):\n",
    "    with open(f\"{path}/experiment_{str(fold)}/test_metrics/sdice_score.json\",\"r\") as f:\n",
    "        sdices = json.load(f)\n",
    "    mode_dict = {}\n",
    "    for t in sorted(set(meta['fold'].unique()) - {fold}):\n",
    "        df_row = meta[meta['fold'] == t].iloc[0]\n",
    "        target_name = df_row['tomograph_model'] + str(df_row['tesla_value'])\n",
    "        ids_t = meta[meta['fold'] == t].index\n",
    "        mode_dict[target_name] = np.round(np.mean([sdsc for _id, sdsc in sdices.items() if _id in ids_t]),3)\n",
    "    mode_dict[' '] = name\n",
    "    return mode_dict\n",
    "\n",
    "def get_SGD_target_domains(name, path, folds, meta, n_first_exclude=5, n_folds=6):\n",
    "    mode_dict = {}\n",
    "    for fold in sorted(folds):\n",
    "        subset_df = df_id.iloc[split[fold][2]]\n",
    "        target_name = str(subset_df['tomograph_model'].unique()[0]) + str(subset_df['tesla_value'].unique()[0])\n",
    "        ids_t = subset_df['id'].unique()\n",
    "\n",
    "        with open(f\"{path}/experiment_{str(fold)}/test_metrics/sdice_score.json\",\"r\") as f:\n",
    "            sdices = json.load(f)\n",
    "        mode_dict[target_name] = np.round(np.mean([sdsc for _id, sdsc in sdices.items() if _id in ids_t]),3)\n",
    "\n",
    "        #mode_dict[target_name] = np.nan\n",
    "    mode_dict[' '] = name\n",
    "    return mode_dict\n",
    "\n",
    "mode_domain = [\"Siemens15\", \"Ge15\", \"Ge3\", \"philips15\", \"philips3\"]\n",
    "baselines = [\"../../domain_shift_anatomy/dart_results/baseline_default\",\n",
    "            ]\n",
    "paths = [\"spottune_rand_aug/test_k_reg_opt_1_48\",\n",
    "         \"spottune_rand_aug/test_k_reg_opt_2_12\",\n",
    "         \"spottune_rand_aug/test_k_reg_opt_3_1\",\n",
    "        ]\n",
    "results = []\n",
    "s = 1\n",
    "for baseline_path in baselines:\n",
    "    baseline_scores = get_SGD_baseline_target_domains(baseline_path,baseline_path,s,meta)\n",
    "    results.append(baseline_scores)\n",
    "for p in paths:\n",
    "    modes = [0,1,2,3,4]\n",
    "\n",
    "    path = os.path.join(\"../../domain_shift_anatomy/dart_results\",p)\n",
    "    spottune_scores = get_SGD_target_domains(p,path,modes,meta)\n",
    "    \n",
    "    results.append(spottune_scores)\n",
    "    \n",
    "df = pd.DataFrame.from_records(results, index=' ')\n",
    "df['Average'] = np.mean(df, axis=1)\n",
    "df['avg. gain'] = np.mean(df.iloc[1:] - df.iloc[0], axis=1)\n",
    "df"
   ]
  },
  {
   "cell_type": "code",
   "execution_count": null,
   "id": "017bdc99-33c6-46f4-9a28-591c104d49fb",
   "metadata": {},
   "outputs": [],
   "source": [
    "mode_domain = [\"Siemens15\", \"Ge15\", \"Ge3\", \"philips15\", \"philips3\"]\n",
    "baselines = [\"../../domain_shift_anatomy/dart_results/baseline\"\n",
    "            ]\n",
    "paths = [\"spottune_rand_aug_v2/test_k_reg_opt_1_48\",\n",
    "         \"spottune_rand_aug_v2/test_k_reg_opt_2_12\",\n",
    "         \"spottune_rand_aug_v2/test_k_reg_opt_3_1\",\n",
    "        ]\n",
    "results = []\n",
    "s = 1\n",
    "for baseline_path in baselines:\n",
    "    baseline_scores = get_SGD_baseline_target_domains(baseline_path,baseline_path,s,meta)\n",
    "    results.append(baseline_scores)\n",
    "for p in paths:\n",
    "    modes = [0,1,2,3,4]\n",
    "\n",
    "    path = os.path.join(\"../../domain_shift_anatomy/dart_results\",p)\n",
    "    spottune_scores = get_SGD_target_domains(p,path,modes,meta)\n",
    "    \n",
    "    results.append(spottune_scores)\n",
    "    \n",
    "df = pd.DataFrame.from_records(results, index=' ')\n",
    "df['Average'] = np.mean(df, axis=1)\n",
    "df['avg. gain'] = np.mean(df.iloc[1:] - df.iloc[0], axis=1)\n",
    "df"
   ]
  }
 ],
 "metadata": {
  "interpreter": {
   "hash": "e86d20a006746a24d56d0ae97e26bae725ea245f8029acaca0550e07c756b654"
  },
  "kernelspec": {
   "display_name": "Python 3 (ipykernel)",
   "language": "python",
   "name": "python3"
  },
  "language_info": {
   "codemirror_mode": {
    "name": "ipython",
    "version": 3
   },
   "file_extension": ".py",
   "mimetype": "text/x-python",
   "name": "python",
   "nbconvert_exporter": "python",
   "pygments_lexer": "ipython3",
   "version": "3.8.11"
  }
 },
 "nbformat": 4,
 "nbformat_minor": 5
}
